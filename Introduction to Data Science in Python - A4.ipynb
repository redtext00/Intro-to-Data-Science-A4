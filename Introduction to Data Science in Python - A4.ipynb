{
 "cells": [
  {
   "cell_type": "markdown",
   "metadata": {
    "deletable": false,
    "editable": false,
    "nbgrader": {
     "checksum": "48770f8b5f5d3062d3badd51fcafc401",
     "grade": false,
     "grade_id": "cell-a6c4f74309fc2379",
     "locked": true,
     "schema_version": 1,
     "solution": false
    }
   },
   "source": [
    "# Assignment 4\n",
    "## Description\n",
    "In this assignment you must read in a file of metropolitan regions and associated sports teams from [assets/wikipedia_data.html](assets/wikipedia_data.html) and answer some questions about each metropolitan region. Each of these regions may have one or more teams from the \"Big 4\": NFL (football, in [assets/nfl.csv](assets/nfl.csv)), MLB (baseball, in [assets/mlb.csv](assets/mlb.csv)), NBA (basketball, in [assets/nba.csv](assets/nba.csv) or NHL (hockey, in [assets/nhl.csv](assets/nhl.csv)). Please keep in mind that all questions are from the perspective of the metropolitan region, and that this file is the \"source of authority\" for the location of a given sports team. Thus teams which are commonly known by a different area (e.g. \"Oakland Raiders\") need to be mapped into the metropolitan region given (e.g. San Francisco Bay Area). This will require some human data understanding outside of the data you've been given (e.g. you will have to hand-code some names, and might need to google to find out where teams are)!\n",
    "\n",
    "For each sport I would like you to answer the question: **what is the win/loss ratio's correlation with the population of the city it is in?** Win/Loss ratio refers to the number of wins over the number of wins plus the number of losses. Remember that to calculate the correlation with [`pearsonr`](https://docs.scipy.org/doc/scipy/reference/generated/scipy.stats.pearsonr.html), so you are going to send in two ordered lists of values, the populations from the wikipedia_data.html file and the win/loss ratio for a given sport in the same order. Average the win/loss ratios for those cities which have multiple teams of a single sport. Each sport is worth an equal amount in this assignment (20%\\*4=80%) of the grade for this assignment. You should only use data **from year 2018** for your analysis -- this is important!\n",
    "\n",
    "## Notes\n",
    "\n",
    "1. Do not include data about the MLS or CFL in any of the work you are doing, we're only interested in the Big 4 in this assignment.\n",
    "2. I highly suggest that you first tackle the four correlation questions in order, as they are all similar and worth the majority of grades for this assignment. This is by design!\n",
    "3. It's fair game to talk with peers about high level strategy as well as the relationship between metropolitan areas and sports teams. However, do not post code solving aspects of the assignment (including such as dictionaries mapping areas to teams, or regexes which will clean up names).\n",
    "4. There may be more teams than the assert statements test, remember to collapse multiple teams in one city into a single value!"
   ]
  },
  {
   "cell_type": "markdown",
   "metadata": {
    "deletable": false,
    "editable": false,
    "nbgrader": {
     "checksum": "369ff9ecf0ee04640574205cbc697f94",
     "grade": false,
     "grade_id": "cell-712b2b5da63d4505",
     "locked": true,
     "schema_version": 1,
     "solution": false
    }
   },
   "source": [
    "## Question 1\n",
    "For this question, calculate the win/loss ratio's correlation with the population of the city it is in for the **NHL** using **2018** data."
   ]
  },
  {
   "cell_type": "code",
   "execution_count": 3,
   "metadata": {
    "deletable": false,
    "nbgrader": {
     "checksum": "1cac4803b02502929f5b1612d48db2b5",
     "grade": false,
     "grade_id": "cell-69b16e4386e58030",
     "locked": false,
     "schema_version": 1,
     "solution": true
    }
   },
   "outputs": [],
   "source": [
    "import pandas as pd\n",
    "import numpy as np\n",
    "import scipy.stats as stats\n",
    "import re\n",
    "\n",
    "nhl_df=pd.read_csv(\"assets/nhl.csv\")\n",
    "cities=pd.read_html(\"assets/wikipedia_data.html\")[1]\n",
    "cities=cities.iloc[:-1,[0,3,5,6,7,8]]\n",
    "\n",
    "\n",
    "def nhl_correlation():\n",
    "    # YOUR CODE HERE\n",
    "    # raise NotImplementedError()\n",
    "    nhlcities = cities.iloc[:,[0,1,-1]]\n",
    "    nhlcities = nhlcities[nhlcities.NHL != '—']\n",
    "    nhlcities = nhlcities.reset_index()\n",
    "    nhlcities = nhlcities.iloc[:,[1,2,3]]\n",
    "    nhlcities['NHL'] = nhlcities['NHL'].str.replace(r\"\\[.*\\]\",\"\")\n",
    "    nhlcities = nhlcities[nhlcities.NHL != '']\n",
    "    nhlcities = nhlcities.reset_index()\n",
    "    nhlcities = nhlcities.iloc[:,[1,2,3]]\n",
    "    nhlcities.rename(columns = {'Population (2016 est.)[8]':'Population'}, inplace = True)\n",
    "\n",
    "    def separate(x):\n",
    "        mylist = re.findall('[A-Z][a-z]+\\s[A-Z][a-z]+|[A-Z][a-z]+', x)\n",
    "        return mylist\n",
    "\n",
    "    nhlcities['NHL'] = nhlcities['NHL'].apply(lambda x: separate(x))\n",
    "    teams = nhlcities['NHL']\n",
    "    area = nhlcities['Metropolitan area'] \n",
    "\n",
    "    nhl_ = {}\n",
    "    for idx,team in enumerate(nhlcities['NHL']) :\n",
    "        for unit in team:\n",
    "            nhl_[unit] = area[idx]\n",
    "    newnhl = pd.DataFrame(nhl_.items(), columns=['team', 'Metropolitan area'])\n",
    "    newnhl['team'] = newnhl['team'].str.replace(r'[A-Z][a-z]+ ','')\n",
    "    premerge = pd.merge(newnhl,nhlcities,'outer', on = 'Metropolitan area')\n",
    "    premerge = premerge.iloc[:,[0,1,2]]\n",
    "    nhl = nhl_df.head(35)\n",
    "    nhl = nhl[nhl['team'].str.contains('Division')==False]\n",
    "    \n",
    "    nhl = nhl.reset_index()\n",
    "    nhl = nhl.iloc[:,[1,3,4]]\n",
    "    nhl['team'] = nhl['team'].str.replace(r\"\\*\",\"\")\n",
    "    nhl['team'] = nhl['team'].str.replace(r\"[A-Z][a-z]+\\.\",\"\")\n",
    "    nhl['team'] = nhl['team'].str.replace(r\"[A-Z][a-z]+ \",\"\")\n",
    "    nhl['team'] = nhl['team'].str.replace(r\" \",\"\")\n",
    "    nhl = nhl.astype({'team': str,'W': int, 'L': int})\n",
    "    nhl['percent'] = nhl['W']/(nhl['W']+nhl['L'])\n",
    "    merge=pd.merge(premerge,nhl,'outer', on = 'team')\n",
    "    merge.rename(columns = {'Metropolitan area':'Metro Area'}, inplace = True)\n",
    "    merge = merge.astype({'percent': float,'Population': int})\n",
    "    merge = merge.groupby('Metro Area').agg({'percent': np.nanmean, 'Population': np.nanmean})\n",
    "    \n",
    "    population_by_region = merge['Population']\n",
    "    win_loss_by_region = merge['percent'] \n",
    "\n",
    "    assert len(population_by_region) == len(win_loss_by_region), \"Q1: Your lists must be the same length\"\n",
    "    assert len(population_by_region) == 28, \"Q1: There should be 28 teams being analysed for NHL\"\n",
    "\n",
    "    return stats.pearsonr(population_by_region, win_loss_by_region)[0]"
   ]
  },
  {
   "cell_type": "code",
   "execution_count": 4,
   "metadata": {},
   "outputs": [
    {
     "data": {
      "text/plain": [
       "0.012486162921209907"
      ]
     },
     "execution_count": 4,
     "metadata": {},
     "output_type": "execute_result"
    }
   ],
   "source": [
    "nhl_correlation()"
   ]
  },
  {
   "cell_type": "code",
   "execution_count": null,
   "metadata": {
    "deletable": false,
    "editable": false,
    "nbgrader": {
     "checksum": "52a581df513c71153e105b93764cda4b",
     "grade": true,
     "grade_id": "cell-ebe0b2dfe1067e63",
     "locked": true,
     "points": 20,
     "schema_version": 1,
     "solution": false
    }
   },
   "outputs": [],
   "source": []
  },
  {
   "cell_type": "markdown",
   "metadata": {
    "deletable": false,
    "editable": false,
    "nbgrader": {
     "checksum": "988912cae4968d81473f46d783e79c16",
     "grade": false,
     "grade_id": "cell-cb964e690298b71d",
     "locked": true,
     "schema_version": 1,
     "solution": false
    }
   },
   "source": [
    "## Question 2\n",
    "For this question, calculate the win/loss ratio's correlation with the population of the city it is in for the **NBA** using **2018** data."
   ]
  },
  {
   "cell_type": "code",
   "execution_count": 5,
   "metadata": {
    "deletable": false,
    "nbgrader": {
     "checksum": "9394222aafc8ccab0a228098ba0d6010",
     "grade": false,
     "grade_id": "cell-5a5f21279e3d3572",
     "locked": false,
     "schema_version": 1,
     "solution": true
    }
   },
   "outputs": [],
   "source": [
    "import pandas as pd\n",
    "import numpy as np\n",
    "import scipy.stats as stats\n",
    "import re\n",
    "\n",
    "nba_df=pd.read_csv(\"assets/nba.csv\")\n",
    "cities=pd.read_html(\"assets/wikipedia_data.html\")[1]\n",
    "cities=cities.iloc[:-1,[0,3,5,6,7,8]]\n",
    "\n",
    "def nba_correlation():\n",
    "    # YOUR CODE HERE\n",
    "    \n",
    "    nbacities = cities.iloc[:,[0,1,4]]\n",
    "    nbacities = nbacities[nbacities.NBA != '—']\n",
    "    nbacities = nbacities.reset_index()\n",
    "    nbacities = nbacities.iloc[:,[1,2,3]]\n",
    "    nbacities['NBA'] = nbacities['NBA'].str.replace(r\"\\[.*\\]\",\"\")\n",
    "    nbacities = nbacities[nbacities.NBA != '']\n",
    "    nbacities = nbacities.reset_index()\n",
    "    nbacities = nbacities.iloc[:,[1,2,3]]\n",
    "    nbacities.rename(columns = {'Population (2016 est.)[8]':'Population'}, inplace = True)\n",
    "    def separate(x):\n",
    "        if x[:1].isdigit():\n",
    "            y = [x]\n",
    "            return y\n",
    "        mylist = re.findall('[A-Z][a-z]+\\s[A-Z][a-z]+|[A-Z][a-z]+', x)\n",
    "        return mylist\n",
    "    nbacities['NBA'] = nbacities['NBA'].apply(lambda x: separate(x))\n",
    "    teams = nbacities['NBA']\n",
    "    area = nbacities['Metropolitan area'] \n",
    "    nba_ = {}\n",
    "    for idx,team in enumerate(nbacities['NBA']) :\n",
    "        for unit in team:\n",
    "            nba_[unit] = area[idx]\n",
    "    newnba = pd.DataFrame(nba_.items(), columns=['team', 'Metropolitan area'])\n",
    "    newnba['team'] = newnba['team'].str.replace(r'[A-Z][a-z]+ ','')\n",
    "    newnba['team'] = newnba['team'].str.replace(r' ','')\n",
    "    premerge = pd.merge(newnba,nbacities,'outer', on = 'Metropolitan area')\n",
    "    premerge = premerge.iloc[:,[0,1,2]]\n",
    "    premerge = premerge.sort_values('team', ascending=True)\n",
    "    premerge = premerge.reset_index()\n",
    "    premerge = premerge.iloc[:,[1,2,3]]\n",
    "    \n",
    "    nba = nba_df.head(30)\n",
    "    nba = nba.iloc[:,[0,1,2,3]]\n",
    "    nba['team'] = nba['team'].str.replace(r\"\\*\",\"\")\n",
    "    nba['team'] = nba['team'].str.replace(r\"[A-Z][a-z]+ \",\"\")\n",
    "    nba['team'] = nba['team'].str.replace(r\"\\(([0-9])*\\)\",\"\")\n",
    "    nba['team'] = nba['team'].str.replace(r\" \",\"\")\n",
    "    nba = nba.sort_values('team', ascending=True)\n",
    "    nba.rename(columns = {'W/L%':'Percent'}, inplace = True)\n",
    "    percent = nba.Percent\n",
    "    # merge=pd.merge(premerge,nba,'outer', on = 'team')\n",
    "    nba = nba.reset_index()\n",
    "    percent = percent.reset_index()\n",
    "    nba = nba.iloc[:,[1,2,3,4]]\n",
    "    percent = percent.iloc[:,[1]]\n",
    "    premerge['Percent'] = percent\n",
    "    premerge.rename(columns = {'Metropolitan area':'Metro Area'}, inplace = True)\n",
    "    premerge = premerge.astype({'Population': int,'Percent': float})\n",
    "    premerge = premerge.groupby('Metro Area').agg({'Percent': np.nanmean, 'Population': np.nanmean})\n",
    "    \n",
    "    population_by_region = premerge['Population']\n",
    "    win_loss_by_region = premerge['Percent'] \n",
    "    \n",
    "    #population_by_region = [] # pass in metropolitan area population from cities\n",
    "    #win_loss_by_region = [] # pass in win/loss ratio from nba_df in the same order as cities[\"Metropolitan area\"]\n",
    "\n",
    "    #raise NotImplementedError()\n",
    "    \n",
    "    assert len(population_by_region) == len(win_loss_by_region), \"Q2: Your lists must be the same length\"\n",
    "    assert len(population_by_region) == 28, \"Q2: There should be 28 teams being analysed for NBA\"\n",
    "\n",
    "    return stats.pearsonr(population_by_region, win_loss_by_region)[0]\n"
   ]
  },
  {
   "cell_type": "code",
   "execution_count": 6,
   "metadata": {},
   "outputs": [
    {
     "data": {
      "text/plain": [
       "-0.17636350642182938"
      ]
     },
     "execution_count": 6,
     "metadata": {},
     "output_type": "execute_result"
    }
   ],
   "source": [
    "nba_correlation()"
   ]
  },
  {
   "cell_type": "code",
   "execution_count": null,
   "metadata": {
    "deletable": false,
    "editable": false,
    "nbgrader": {
     "checksum": "bbdeb8eb22f525a34c10dc8798324e42",
     "grade": true,
     "grade_id": "cell-e573b2b4a282b470",
     "locked": true,
     "points": 20,
     "schema_version": 1,
     "solution": false
    }
   },
   "outputs": [],
   "source": []
  },
  {
   "cell_type": "markdown",
   "metadata": {
    "deletable": false,
    "editable": false,
    "nbgrader": {
     "checksum": "1a1a5809f675ca033086422007cd73bd",
     "grade": false,
     "grade_id": "cell-96e15e4335df78f4",
     "locked": true,
     "schema_version": 1,
     "solution": false
    }
   },
   "source": [
    "## Question 3\n",
    "For this question, calculate the win/loss ratio's correlation with the population of the city it is in for the **MLB** using **2018** data."
   ]
  },
  {
   "cell_type": "code",
   "execution_count": 7,
   "metadata": {
    "deletable": false,
    "nbgrader": {
     "checksum": "27e8c0da6c9fa0dffc10488314335b6c",
     "grade": false,
     "grade_id": "cell-33b00fc3f3467b0c",
     "locked": false,
     "schema_version": 1,
     "solution": true
    }
   },
   "outputs": [],
   "source": [
    "import pandas as pd\n",
    "import numpy as np\n",
    "import scipy.stats as stats\n",
    "import re\n",
    "\n",
    "\n",
    "mlb_df=pd.read_csv(\"assets/mlb.csv\")\n",
    "cities=pd.read_html(\"assets/wikipedia_data.html\")[1]\n",
    "cities=cities.iloc[:-1,[0,3,5,6,7,8]]\n",
    "\n",
    "def mlb_correlation(): \n",
    "    # YOUR CODE HERE\n",
    "    \n",
    "    mlbcities = cities.iloc[:,[0,1,3]]\n",
    "    mlbcities = mlbcities[mlbcities.MLB != '—']\n",
    "    mlbcities = mlbcities.reset_index()\n",
    "    mlbcities = mlbcities.iloc[:,[1,2,3]]\n",
    "    mlbcities.rename(columns = {'Population (2016 est.)[8]':'Population'}, inplace = True)\n",
    "    mlbcities['MLB'] = mlbcities['MLB'].str.replace(r\"\\[.*\\]\",\"\")\n",
    "    mlbcities = mlbcities[mlbcities.MLB != '']\n",
    "    def separate(x):\n",
    "        mylist = re.findall('[A-Z][a-z]+\\s[A-Z][a-z]+|[A-Z][a-z]+', x)\n",
    "        return mylist\n",
    "    mlbcities['MLB'] = mlbcities['MLB'].apply(lambda x: separate(x))\n",
    "    mlbcities = mlbcities.reset_index()\n",
    "    mlbcities = mlbcities.iloc[:,[1,2,3]]\n",
    "    teams = mlbcities['MLB']\n",
    "    area = mlbcities['Metropolitan area'] \n",
    "\n",
    "    mlb_ = {}\n",
    "    for idx,team in enumerate(mlbcities['MLB']) :\n",
    "        for unit in team:\n",
    "            mlb_[unit] = area[idx]\n",
    "    newmlb = pd.DataFrame(mlb_.items(), columns=['team', 'Metropolitan area'])\n",
    "\n",
    "    #newmlb['team'] = newmlb['team'].str.replace(r' ','')\n",
    "    premerge = pd.merge(newmlb,mlbcities,'outer', on = 'Metropolitan area')\n",
    "    premerge = premerge.iloc[:,[0,1,2]]\n",
    "    premerge = premerge.sort_values('team', ascending=True)\n",
    "    premerge = premerge.reset_index()\n",
    "    premerge = premerge.iloc[:,[1,2,3]]\n",
    "    \n",
    "    mlb = mlb_df.head(30)\n",
    "    mlb = mlb.iloc[:,[0,3]]\n",
    "    def separate_(x):\n",
    "        if x == 'Boston Red Sox':\n",
    "            y = 'Red Sox'\n",
    "            return y\n",
    "        if x == 'Chicago White Sox':\n",
    "            y = 'White Sox'\n",
    "            return y\n",
    "        if x == 'Toronto Blue Jays':\n",
    "            y = 'Blue Jays'\n",
    "            return y\n",
    "        else:\n",
    "            y = x.split(' ')[-1]\n",
    "            return y\n",
    "    mlb['team'] = mlb['team'].apply(lambda x: separate_(x))\n",
    "    mlb = mlb.sort_values('team', ascending=True)\n",
    "    mlb.rename(columns = {'W-L%':'Percent'}, inplace = True)\n",
    "    mlb = mlb.reset_index()\n",
    "    mlb = mlb.iloc[:,[1,2]]\n",
    "\n",
    "    percent = mlb.Percent\n",
    "    premerge['Percent'] = percent\n",
    "\n",
    "    premerge.rename(columns = {'Metropolitan area':'Metro Area'}, inplace = True)\n",
    "    premerge = premerge.astype({'Population': int,'Percent': float})\n",
    "    premerge = premerge.groupby('Metro Area').agg({'Percent': np.nanmean, 'Population': np.nanmean})\n",
    "    \n",
    "    population_by_region = premerge['Population'] # pass in metropolitan area population from cities\n",
    "    win_loss_by_region = premerge['Percent'] # pass in win/loss ratio from mlb_df in the same order as cities[\"Metropolitan area\"]\n",
    "\n",
    "    #raise NotImplementedError()\n",
    "    \n",
    "    assert len(population_by_region) == len(win_loss_by_region), \"Q3: Your lists must be the same length\"\n",
    "    assert len(population_by_region) == 26, \"Q3: There should be 26 teams being analysed for MLB\"\n",
    "\n",
    "    return stats.pearsonr(population_by_region, win_loss_by_region)[0]"
   ]
  },
  {
   "cell_type": "code",
   "execution_count": 8,
   "metadata": {},
   "outputs": [
    {
     "data": {
      "text/plain": [
       "0.15003737475409495"
      ]
     },
     "execution_count": 8,
     "metadata": {},
     "output_type": "execute_result"
    }
   ],
   "source": [
    "mlb_correlation()"
   ]
  },
  {
   "cell_type": "code",
   "execution_count": null,
   "metadata": {
    "deletable": false,
    "editable": false,
    "nbgrader": {
     "checksum": "cda33b094ba19ccc37a481e0dd29e0bc",
     "grade": true,
     "grade_id": "cell-764d4476f425c5a2",
     "locked": true,
     "points": 20,
     "schema_version": 1,
     "solution": false
    }
   },
   "outputs": [],
   "source": []
  },
  {
   "cell_type": "markdown",
   "metadata": {
    "deletable": false,
    "editable": false,
    "nbgrader": {
     "checksum": "6977a6da9ed6d8b7a0b7e37bbeda709b",
     "grade": false,
     "grade_id": "cell-793df6c04dfb126e",
     "locked": true,
     "schema_version": 1,
     "solution": false
    }
   },
   "source": [
    "## Question 4\n",
    "For this question, calculate the win/loss ratio's correlation with the population of the city it is in for the **NFL** using **2018** data."
   ]
  },
  {
   "cell_type": "code",
   "execution_count": 16,
   "metadata": {
    "deletable": false,
    "nbgrader": {
     "checksum": "c4914ad1e119278ec2bd567c52640b66",
     "grade": false,
     "grade_id": "cell-8ccebc209aeec8d9",
     "locked": false,
     "schema_version": 1,
     "solution": true
    }
   },
   "outputs": [],
   "source": [
    "import pandas as pd\n",
    "import numpy as np\n",
    "import scipy.stats as stats\n",
    "import re\n",
    "\n",
    "nfl_df=pd.read_csv(\"assets/nfl.csv\")\n",
    "cities=pd.read_html(\"assets/wikipedia_data.html\")[1]\n",
    "cities=cities.iloc[:-1,[0,3,5,6,7,8]]\n",
    "\n",
    "def nfl_correlation(): \n",
    "    # YOUR CODE HERE\n",
    "\n",
    "    cities3=cities.iloc[:,[0,1,2]]\n",
    "    cities3 = cities3[cities3.NFL != '—']\n",
    "    cities3 = cities3.reset_index()\n",
    "    cities3 = cities3.iloc[:,[1,2,3]]\n",
    "    cities3.rename(columns = {'Population (2016 est.)[8]':'Population'}, inplace = True)\n",
    "    cities3['NFL'] = cities3['NFL'].str.replace(r\"\\[.*\\]\",\"\")\n",
    "    cities3 = cities3[cities3.NFL != '']\n",
    "    cities3 = cities3[cities3.NFL != '— ']\n",
    "    def separatenfl(x):\n",
    "        mylist = re.findall('[0-9]+[a-z]+|[A-Z][a-z]+', x)\n",
    "        return mylist\n",
    "    cities3['NFL'] = cities3['NFL'].apply(lambda x: separatenfl(x))\n",
    "    cities3 = cities3.reset_index()\n",
    "    cities3 = cities3.iloc[:,[1,2,3]]\n",
    "    teams = cities3['NFL']\n",
    "    area = cities3['Metropolitan area'] \n",
    "    nfl_ = {}\n",
    "    for idx,team in enumerate(cities3['NFL']) :\n",
    "        for unit in team:\n",
    "            nfl_[unit] = area[idx]\n",
    "\n",
    "    newnfl = pd.DataFrame(nfl_.items(), columns=['team', 'Metropolitan area'])\n",
    "    premerge3 = pd.merge(newnfl,cities3,'outer', on = 'Metropolitan area')\n",
    "    premerge3 = premerge3.iloc[:,[0,1,2]]\n",
    "    premerge3 = premerge3.sort_values('team', ascending=True)\n",
    "    premerge3 = premerge3.reset_index()\n",
    "    premerge3 = premerge3.iloc[:,[1,2,3]]\n",
    "    \n",
    "    nfl = nfl_df[nfl_df['year'] == 2018]\n",
    "    def idennfl(x):\n",
    "        y = x\n",
    "        mylist = re.findall('AFC|NFC', y)\n",
    "        if mylist == []:\n",
    "            return x\n",
    "        else: \n",
    "            return '-'\n",
    "    nfl['team'] = nfl['team'].apply(lambda x: idennfl(x))\n",
    "    nfl = nfl[nfl.team != '-']\n",
    "    nfl.rename(columns = {'W-L%':'Percent'}, inplace = True)\n",
    "    nfl = nfl.reset_index()\n",
    "    nfl = nfl.iloc[:,[-2,-3]]\n",
    "    nfl['team'] = nfl['team'].str.replace(r\"\\*|\\+\",\"\")\n",
    "\n",
    "    nfl['team'] = nfl['team'].str.replace(r\"\\S+ \",\"\")\n",
    "    nfl = nfl.sort_values('team', ascending=True)\n",
    "    nfl = nfl.reset_index()\n",
    "\n",
    "    percent = nfl.Percent\n",
    "\n",
    "    premerge3['Percent'] = percent\n",
    "    premerge3.rename(columns = {'Metropolitan area':'Metro Area'}, inplace = True)\n",
    "    premerge3 = premerge3.astype({'Population': int,'Percent': float})\n",
    "    premerge3 = premerge3.groupby('Metro Area').agg({'Percent': np.nanmean, 'Population': np.nanmean})\n",
    "    \n",
    "    #raise NotImplementedError()\n",
    "    \n",
    "    population_by_region = premerge3['Population'] # pass in metropolitan area population from cities\n",
    "    win_loss_by_region = premerge3['Percent']  # pass in win/loss ratio from nfl_df in the same order as cities[\"Metropolitan area\"]\n",
    "\n",
    "    assert len(population_by_region) == len(win_loss_by_region), \"Q4: Your lists must be the same length\"\n",
    "    assert len(population_by_region) == 29, \"Q4: There should be 29 teams being analysed for NFL\"\n",
    "\n",
    "    return stats.pearsonr(population_by_region, win_loss_by_region)[0]"
   ]
  },
  {
   "cell_type": "code",
   "execution_count": null,
   "metadata": {
    "deletable": false,
    "editable": false,
    "nbgrader": {
     "checksum": "e9415d6399aa49e3a1a60813afdefa3b",
     "grade": true,
     "grade_id": "cell-de7b148b9554dbda",
     "locked": true,
     "points": 20,
     "schema_version": 1,
     "solution": false
    }
   },
   "outputs": [],
   "source": []
  },
  {
   "cell_type": "code",
   "execution_count": 17,
   "metadata": {},
   "outputs": [
    {
     "data": {
      "text/plain": [
       "0.004282141436393017"
      ]
     },
     "execution_count": 17,
     "metadata": {},
     "output_type": "execute_result"
    }
   ],
   "source": [
    "nfl_correlation()"
   ]
  },
  {
   "cell_type": "markdown",
   "metadata": {
    "deletable": false,
    "editable": false,
    "nbgrader": {
     "checksum": "b02d5cd3273f561e4ae939bb2a41740c",
     "grade": false,
     "grade_id": "cell-97b49d8639e908c4",
     "locked": true,
     "schema_version": 1,
     "solution": false
    }
   },
   "source": [
    "## Question 5\n",
    "In this question I would like you to explore the hypothesis that **given that an area has two sports teams in different sports, those teams will perform the same within their respective sports**. How I would like to see this explored is with a series of paired t-tests (so use [`ttest_rel`](https://docs.scipy.org/doc/scipy/reference/generated/scipy.stats.ttest_rel.html)) between all pairs of sports. Are there any sports where we can reject the null hypothesis? Again, average values where a sport has multiple teams in one region. Remember, you will only be including, for each sport, cities which have teams engaged in that sport, drop others as appropriate. This question is worth 20% of the grade for this assignment."
   ]
  },
  {
   "cell_type": "code",
   "execution_count": 18,
   "metadata": {
    "deletable": false,
    "nbgrader": {
     "checksum": "6d78c961eb66f8d8c81f06d33ae8f393",
     "grade": false,
     "grade_id": "cell-92f25f44b8d1179f",
     "locked": false,
     "schema_version": 1,
     "solution": true
    }
   },
   "outputs": [],
   "source": [
    "import pandas as pd\n",
    "import numpy as np\n",
    "import scipy.stats as stats\n",
    "import re\n",
    "\n",
    "mlb_df=pd.read_csv(\"assets/mlb.csv\")\n",
    "nhl_df=pd.read_csv(\"assets/nhl.csv\")\n",
    "nba_df=pd.read_csv(\"assets/nba.csv\")\n",
    "nfl_df=pd.read_csv(\"assets/nfl.csv\")\n",
    "cities=pd.read_html(\"assets/wikipedia_data.html\")[1]\n",
    "cities=cities.iloc[:-1,[0,3,5,6,7,8]]\n",
    "\n",
    "def separate(x):\n",
    "        mylist = re.findall('[A-Z][a-z]+\\s[A-Z][a-z]+|[A-Z][a-z]+', x)\n",
    "        return mylist\n",
    "def separate1(x):\n",
    "        if x[:1].isdigit():\n",
    "            y = [x]\n",
    "            return y\n",
    "        mylist = re.findall('[A-Z][a-z]+\\s[A-Z][a-z]+|[A-Z][a-z]+', x)\n",
    "        return mylist\n",
    "def separate2(x):\n",
    "        mylist = re.findall('[A-Z][a-z]+\\s[A-Z][a-z]+|[A-Z][a-z]+', x)\n",
    "        return mylist\n",
    "def separate3(x):\n",
    "        if x == 'Boston Red Sox':\n",
    "            y = 'Red Sox'\n",
    "            return y\n",
    "        if x == 'Chicago White Sox':\n",
    "            y = 'White Sox'\n",
    "            return y\n",
    "        if x == 'Toronto Blue Jays':\n",
    "            y = 'Blue Jays'\n",
    "            return y\n",
    "        else:\n",
    "            y = x.split(' ')[-1]\n",
    "            return y\n",
    "def separate4(x):\n",
    "        mylist = re.findall('[0-9]+[a-z]+|[A-Z][a-z]+', x)\n",
    "        return mylist\n",
    "def iden(x):\n",
    "        y = x\n",
    "        mylist = re.findall('AFC|NFC', y)\n",
    "        if mylist == []:\n",
    "            return x\n",
    "        else: \n",
    "            return '-'\n",
    "\n",
    "def sports_team_performance():\n",
    "    # YOUR CODE HERE\n",
    "    \n",
    "    nhlcities = cities.iloc[:,[0,1,-1]]\n",
    "    nhlcities = nhlcities[nhlcities.NHL != '—']\n",
    "    nhlcities = nhlcities.reset_index()\n",
    "    nhlcities = nhlcities.iloc[:,[1,2,3]]\n",
    "    nhlcities['NHL'] = nhlcities['NHL'].str.replace(r\"\\[.*\\]\",\"\")\n",
    "    nhlcities = nhlcities[nhlcities.NHL != '']\n",
    "    nhlcities = nhlcities.reset_index()\n",
    "    nhlcities = nhlcities.iloc[:,[1,2,3]]\n",
    "    nhlcities.rename(columns = {'Population (2016 est.)[8]':'Population'}, inplace = True)\n",
    "\n",
    "    \n",
    "\n",
    "    nhlcities['NHL'] = nhlcities['NHL'].apply(lambda x: separate(x))\n",
    "    teams = nhlcities['NHL']\n",
    "    area = nhlcities['Metropolitan area'] \n",
    "\n",
    "    nhl_ = {}\n",
    "    for idx,team in enumerate(nhlcities['NHL']) :\n",
    "        for unit in team:\n",
    "            nhl_[unit] = area[idx]\n",
    "    newnhl = pd.DataFrame(nhl_.items(), columns=['team', 'Metropolitan area'])\n",
    "    newnhl['team'] = newnhl['team'].str.replace(r'[A-Z][a-z]+ ','')\n",
    "    premerge = pd.merge(newnhl,nhlcities,'outer', on = 'Metropolitan area')\n",
    "    premerge = premerge.iloc[:,[0,1,2]]\n",
    "    nhl = nhl_df.head(35)\n",
    "    nhl = nhl[nhl['team'].str.contains('Division')==False]\n",
    "\n",
    "    nhl = nhl.reset_index()\n",
    "    nhl = nhl.iloc[:,[1,3,4]]\n",
    "    nhl['team'] = nhl['team'].str.replace(r\"\\*\",\"\")\n",
    "    nhl['team'] = nhl['team'].str.replace(r\"[A-Z][a-z]+\\.\",\"\")\n",
    "    nhl['team'] = nhl['team'].str.replace(r\"[A-Z][a-z]+ \",\"\")\n",
    "    nhl['team'] = nhl['team'].str.replace(r\" \",\"\")\n",
    "    nhl = nhl.astype({'team': str,'W': int, 'L': int})\n",
    "    nhl['percent'] = nhl['W']/(nhl['W']+nhl['L'])\n",
    "    merge=pd.merge(premerge,nhl,'outer', on = 'team')\n",
    "    merge.rename(columns = {'Metropolitan area':'Metro Area'}, inplace = True)\n",
    "    merge = merge.astype({'percent': float,'Population': int})\n",
    "    merge = merge.groupby('Metro Area').agg({'percent': np.nanmean, 'Population': np.nanmean})\n",
    "    merge.rename(columns = {'percent':'Percent'}, inplace = True)\n",
    "    \n",
    "    cities1 = cities.iloc[:,[0,1,4]]\n",
    "    cities1 = cities1[cities1.NBA != '—']\n",
    "    cities1 = cities1.reset_index()\n",
    "    cities1 = cities1.iloc[:,[1,2,3]]\n",
    "    cities1['NBA'] = cities1['NBA'].str.replace(r\"\\[.*\\]\",\"\")\n",
    "    cities1 = cities1[cities1.NBA != '']\n",
    "    cities1 = cities1.reset_index()\n",
    "    cities1 = cities1.iloc[:,[1,2,3]]\n",
    "    cities1.rename(columns = {'Population (2016 est.)[8]':'Population'}, inplace = True)\n",
    "    \n",
    "    cities1['NBA'] = cities1['NBA'].apply(lambda x: separate1(x))\n",
    "    teams1 = cities1['NBA']\n",
    "    area1 = cities1['Metropolitan area'] \n",
    "    nba_ = {}\n",
    "    for idx,team in enumerate(cities1['NBA']) :\n",
    "        for unit in team:\n",
    "            nba_[unit] = area1[idx]\n",
    "    newnba = pd.DataFrame(nba_.items(), columns=['team', 'Metropolitan area'])\n",
    "    newnba['team'] = newnba['team'].str.replace(r'[A-Z][a-z]+ ','')\n",
    "    newnba['team'] = newnba['team'].str.replace(r' ','')\n",
    "    premerge1 = pd.merge(newnba,cities1,'outer', on = 'Metropolitan area')\n",
    "    premerge1 = premerge1.iloc[:,[0,1,2]]\n",
    "    premerge1 = premerge1.sort_values('team', ascending=True)\n",
    "    premerge1 = premerge1.reset_index()\n",
    "    premerge1 = premerge1.iloc[:,[1,2,3]]\n",
    "    premerge1 = premerge1.head(30)\n",
    "    nba = nba_df.head(30)\n",
    "    nba = nba.iloc[:,[0,1,2,3]]\n",
    "    nba['team'] = nba['team'].str.replace(r\"\\*\",\"\")\n",
    "    nba['team'] = nba['team'].str.replace(r\"[A-Z][a-z]+ \",\"\")\n",
    "    nba['team'] = nba['team'].str.replace(r\"\\(([0-9])*\\)\",\"\")\n",
    "    nba['team'] = nba['team'].str.replace(r\" \",\"\")\n",
    "    nba = nba.sort_values('team', ascending=True)\n",
    "    nba.rename(columns = {'W/L%':'Percent'}, inplace = True)\n",
    "    percent = nba.Percent\n",
    "    # merge=pd.merge(premerge,nba,'outer', on = 'team')\n",
    "    nba = nba.reset_index()\n",
    "    percent = percent.reset_index()\n",
    "    nba = nba.iloc[:,[1,2,3,4]]\n",
    "    percent = percent.iloc[:,[1]]\n",
    "    premerge1['Percent'] = percent\n",
    "    premerge1.rename(columns = {'Metropolitan area':'Metro Area'}, inplace = True)\n",
    "    premerge1 = premerge1.astype({'Percent': float})\n",
    "    premerge1 = premerge1.astype({'Population': int})\n",
    "    #print(type(premerge1['Population'][0]))\n",
    "    premerge1 = premerge1.groupby('Metro Area').agg({'Percent': np.nanmean, 'Population': np.nanmean})\n",
    "    \n",
    "    cities2 = cities.iloc[:,[0,1,3]]\n",
    "    cities2 = cities2[cities2.MLB != '—']\n",
    "    cities2 = cities2.reset_index()\n",
    "    cities2 = cities2.iloc[:,[1,2,3]]\n",
    "    cities2.rename(columns = {'Population (2016 est.)[8]':'Population'}, inplace = True)\n",
    "    cities2['MLB'] = cities2['MLB'].str.replace(r\"\\[.*\\]\",\"\")\n",
    "    cities2 = cities2[cities2.MLB != '']\n",
    "    \n",
    "    cities2['MLB'] = cities2['MLB'].apply(lambda x: separate(x))\n",
    "    cities2 = cities2.reset_index()\n",
    "    cities2 = cities2.iloc[:,[1,2,3]]\n",
    "    teams2 = cities2['MLB']\n",
    "    area2 = cities2['Metropolitan area'] \n",
    "\n",
    "    mlb_ = {}\n",
    "    for idx,team in enumerate(cities2['MLB']) :\n",
    "        for unit in team:\n",
    "            mlb_[unit] = area2[idx]\n",
    "    newmlb = pd.DataFrame(mlb_.items(), columns=['team', 'Metropolitan area'])\n",
    "\n",
    "    #newmlb['team'] = newmlb['team'].str.replace(r' ','')\n",
    "    premerge2 = pd.merge(newmlb,cities2,'outer', on = 'Metropolitan area')\n",
    "    premerge2 = premerge2.iloc[:,[0,1,2]]\n",
    "    premerge2 = premerge2.sort_values('team', ascending=True)\n",
    "    premerge2 = premerge2.reset_index()\n",
    "    premerge2 = premerge2.iloc[:,[1,2,3]]\n",
    "\n",
    "    mlb = mlb_df.head(30)\n",
    "    mlb = mlb.iloc[:,[0,3]]\n",
    "    \n",
    "    mlb['team'] = mlb['team'].apply(lambda x: separate3(x))\n",
    "    mlb = mlb.sort_values('team', ascending=True)\n",
    "    mlb.rename(columns = {'W-L%':'Percent'}, inplace = True)\n",
    "    mlb = mlb.reset_index()\n",
    "    mlb = mlb.iloc[:,[1,2]]\n",
    "\n",
    "    percent2 = mlb.Percent\n",
    "    premerge2['Percent'] = percent\n",
    "\n",
    "    premerge2.rename(columns = {'Metropolitan area':'Metro Area'}, inplace = True)\n",
    "    premerge2 = premerge2.astype({'Population': int,'Percent': float})\n",
    "    premerge2 = premerge2.groupby('Metro Area').agg({'Percent': np.nanmean, 'Population': np.nanmean})\n",
    "\n",
    "    # NFL\n",
    "    cities3=cities.iloc[:,[0,1,2]]\n",
    "    cities3 = cities3[cities3.NFL != '—']\n",
    "    cities3 = cities3.reset_index()\n",
    "    cities3 = cities3.iloc[:,[1,2,3]]\n",
    "    cities3.rename(columns = {'Population (2016 est.)[8]':'Population'}, inplace = True)\n",
    "    cities3['NFL'] = cities3['NFL'].str.replace(r\"\\[.*\\]\",\"\")\n",
    "    cities3 = cities3[cities3.NFL != '']\n",
    "    cities3 = cities3[cities3.NFL != '— ']\n",
    "    def separatenfl(x):\n",
    "        mylist = re.findall('[0-9]+[a-z]+|[A-Z][a-z]+', x)\n",
    "        return mylist\n",
    "    cities3['NFL'] = cities3['NFL'].apply(lambda x: separatenfl(x))\n",
    "    cities3 = cities3.reset_index()\n",
    "    cities3 = cities3.iloc[:,[1,2,3]]\n",
    "    teams = cities3['NFL']\n",
    "    area = cities3['Metropolitan area'] \n",
    "    nfl_ = {}\n",
    "    for idx,team in enumerate(cities3['NFL']) :\n",
    "        for unit in team:\n",
    "            nfl_[unit] = area[idx]\n",
    "\n",
    "    newnfl = pd.DataFrame(nfl_.items(), columns=['team', 'Metropolitan area'])\n",
    "    premerge3 = pd.merge(newnfl,cities3,'outer', on = 'Metropolitan area')\n",
    "    premerge3 = premerge3.iloc[:,[0,1,2]]\n",
    "    premerge3 = premerge3.sort_values('team', ascending=True)\n",
    "    premerge3 = premerge3.reset_index()\n",
    "    premerge3 = premerge3.iloc[:,[1,2,3]]\n",
    "    \n",
    "    nfl = nfl_df[nfl_df['year'] == 2018]\n",
    "    def idennfl(x):\n",
    "        y = x\n",
    "        mylist = re.findall('AFC|NFC', y)\n",
    "        if mylist == []:\n",
    "            return x\n",
    "        else: \n",
    "            return '-'\n",
    "    nfl['team'] = nfl['team'].apply(lambda x: idennfl(x))\n",
    "    nfl = nfl[nfl.team != '-']\n",
    "    nfl.rename(columns = {'W-L%':'Percent'}, inplace = True)\n",
    "    nfl = nfl.reset_index()\n",
    "    nfl = nfl.iloc[:,[-2,-3]]\n",
    "    nfl['team'] = nfl['team'].str.replace(r\"\\*|\\+\",\"\")\n",
    "\n",
    "    nfl['team'] = nfl['team'].str.replace(r\"\\S+ \",\"\")\n",
    "    nfl = nfl.sort_values('team', ascending=True)\n",
    "    nfl = nfl.reset_index()\n",
    "\n",
    "    percent = nfl.Percent\n",
    "\n",
    "    premerge3['Percent'] = percent\n",
    "    premerge3.rename(columns = {'Metropolitan area':'Metro Area'}, inplace = True)\n",
    "    premerge3 = premerge3.astype({'Population': int,'Percent': float})\n",
    "    premerge3 = premerge3.groupby('Metro Area').agg({'Percent': np.nanmean, 'Population': np.nanmean})\n",
    "    \n",
    "    nhldf1 = merge\n",
    "    nbadf1 = premerge1\n",
    "    mlbdf1 = premerge2\n",
    "    nfldf1 = premerge3\n",
    "    list1 = [nfldf1, nbadf1, nhldf1, mlbdf1]\n",
    "    tempmerge1 = pd.merge(nhldf1,nbadf1,'inner', on = 'Metro Area')\n",
    "    \n",
    "    data_set = {'NFL': nfldf1,\n",
    "                'NBA': nbadf1,\n",
    "                'NHL': nhldf1,\n",
    "                'MLB': mlbdf1}\n",
    "    \n",
    "    #raise NotImplementedError()\n",
    "    \n",
    "    # Note: p_values is a full dataframe, so df.loc[\"NFL\",\"NBA\"] should be the same as df.loc[\"NBA\",\"NFL\"] and\n",
    "    # df.loc[\"NFL\",\"NFL\"] should return np.nan\n",
    "    sports = ['NFL', 'NBA', 'NHL', 'MLB']\n",
    "    p_values = pd.DataFrame({k:np.nan for k in sports}, index=sports)\n",
    "    for index in sports:\n",
    "        for idx in sports:\n",
    "            if index != idx:\n",
    "                tempmerge = pd.merge(data_set[index],data_set[idx],'inner', on = 'Metro Area')\n",
    "                p_values.loc[index, idx]=stats.ttest_rel(tempmerge['Percent_x'],tempmerge['Percent_y'])[1]\n",
    "    \n",
    "    assert abs(p_values.loc[\"NBA\", \"NHL\"] - 0.02) <= 1e-2, \"The NBA-NHL p-value should be around 0.02\"\n",
    "    assert abs(p_values.loc[\"MLB\", \"NFL\"] - 0.80) <= 1e-2, \"The MLB-NFL p-value should be around 0.80\"\n",
    "    return p_values"
   ]
  },
  {
   "cell_type": "code",
   "execution_count": null,
   "metadata": {
    "deletable": false,
    "editable": false,
    "nbgrader": {
     "checksum": "2a596ab421a45cc01168d10e8fbb8f89",
     "grade": true,
     "grade_id": "cell-fb4b9cb5ff4570a6",
     "locked": true,
     "points": 20,
     "schema_version": 1,
     "solution": false
    }
   },
   "outputs": [],
   "source": []
  },
  {
   "cell_type": "code",
   "execution_count": 19,
   "metadata": {},
   "outputs": [
    {
     "ename": "AssertionError",
     "evalue": "The MLB-NFL p-value should be around 0.80",
     "output_type": "error",
     "traceback": [
      "\u001b[0;31m---------------------------------------------------------------------------\u001b[0m",
      "\u001b[0;31mAssertionError\u001b[0m                            Traceback (most recent call last)",
      "\u001b[0;32m<ipython-input-19-1c2712aa0a33>\u001b[0m in \u001b[0;36m<module>\u001b[0;34m\u001b[0m\n\u001b[0;32m----> 1\u001b[0;31m \u001b[0msports_team_performance\u001b[0m\u001b[0;34m(\u001b[0m\u001b[0;34m)\u001b[0m\u001b[0;34m\u001b[0m\u001b[0;34m\u001b[0m\u001b[0m\n\u001b[0m",
      "\u001b[0;32m<ipython-input-18-973bacc035ae>\u001b[0m in \u001b[0;36msports_team_performance\u001b[0;34m()\u001b[0m\n\u001b[1;32m    261\u001b[0m \u001b[0;34m\u001b[0m\u001b[0m\n\u001b[1;32m    262\u001b[0m     \u001b[0;32massert\u001b[0m \u001b[0mabs\u001b[0m\u001b[0;34m(\u001b[0m\u001b[0mp_values\u001b[0m\u001b[0;34m.\u001b[0m\u001b[0mloc\u001b[0m\u001b[0;34m[\u001b[0m\u001b[0;34m\"NBA\"\u001b[0m\u001b[0;34m,\u001b[0m \u001b[0;34m\"NHL\"\u001b[0m\u001b[0;34m]\u001b[0m \u001b[0;34m-\u001b[0m \u001b[0;36m0.02\u001b[0m\u001b[0;34m)\u001b[0m \u001b[0;34m<=\u001b[0m \u001b[0;36m1e-2\u001b[0m\u001b[0;34m,\u001b[0m \u001b[0;34m\"The NBA-NHL p-value should be around 0.02\"\u001b[0m\u001b[0;34m\u001b[0m\u001b[0;34m\u001b[0m\u001b[0m\n\u001b[0;32m--> 263\u001b[0;31m     \u001b[0;32massert\u001b[0m \u001b[0mabs\u001b[0m\u001b[0;34m(\u001b[0m\u001b[0mp_values\u001b[0m\u001b[0;34m.\u001b[0m\u001b[0mloc\u001b[0m\u001b[0;34m[\u001b[0m\u001b[0;34m\"MLB\"\u001b[0m\u001b[0;34m,\u001b[0m \u001b[0;34m\"NFL\"\u001b[0m\u001b[0;34m]\u001b[0m \u001b[0;34m-\u001b[0m \u001b[0;36m0.80\u001b[0m\u001b[0;34m)\u001b[0m \u001b[0;34m<=\u001b[0m \u001b[0;36m1e-2\u001b[0m\u001b[0;34m,\u001b[0m \u001b[0;34m\"The MLB-NFL p-value should be around 0.80\"\u001b[0m\u001b[0;34m\u001b[0m\u001b[0;34m\u001b[0m\u001b[0m\n\u001b[0m\u001b[1;32m    264\u001b[0m     \u001b[0;32mreturn\u001b[0m \u001b[0mp_values\u001b[0m\u001b[0;34m\u001b[0m\u001b[0;34m\u001b[0m\u001b[0m\n",
      "\u001b[0;31mAssertionError\u001b[0m: The MLB-NFL p-value should be around 0.80"
     ]
    }
   ],
   "source": [
    "sports_team_performance()"
   ]
  },
  {
   "cell_type": "code",
   "execution_count": 20,
   "metadata": {},
   "outputs": [
    {
     "ename": "NameError",
     "evalue": "name 'p_values' is not defined",
     "output_type": "error",
     "traceback": [
      "\u001b[0;31m---------------------------------------------------------------------------\u001b[0m",
      "\u001b[0;31mNameError\u001b[0m                                 Traceback (most recent call last)",
      "\u001b[0;32m<ipython-input-20-beb96ceb229e>\u001b[0m in \u001b[0;36m<module>\u001b[0;34m\u001b[0m\n\u001b[0;32m----> 1\u001b[0;31m \u001b[0mp_values\u001b[0m\u001b[0;34m\u001b[0m\u001b[0;34m\u001b[0m\u001b[0m\n\u001b[0m",
      "\u001b[0;31mNameError\u001b[0m: name 'p_values' is not defined"
     ]
    }
   ],
   "source": [
    "p_values"
   ]
  },
  {
   "cell_type": "code",
   "execution_count": null,
   "metadata": {},
   "outputs": [],
   "source": []
  }
 ],
 "metadata": {
  "coursera": {
   "schema_names": [
    "mooc_adswpy_1_v2_assignment4"
   ]
  },
  "kernelspec": {
   "display_name": "Python 3",
   "language": "python",
   "name": "python3"
  },
  "language_info": {
   "codemirror_mode": {
    "name": "ipython",
    "version": 3
   },
   "file_extension": ".py",
   "mimetype": "text/x-python",
   "name": "python",
   "nbconvert_exporter": "python",
   "pygments_lexer": "ipython3",
   "version": "3.7.3"
  }
 },
 "nbformat": 4,
 "nbformat_minor": 4
}
